{
 "cells": [
  {
   "cell_type": "markdown",
   "id": "bc916a1c",
   "metadata": {},
   "source": [
    "# Análisis de Datos SQL en Jupyter Notebook\n",
    "Este notebook contiene el análisis de datos utilizando **SQLite** y **Python**.\n",
    "\n",
    "## Objetivos de la Prueba Técnica\n",
    "1. Crear una base de datos SQL usando los archivos CSV proporcionados.\n",
    "2. Crear las tablas necesarias y cargar los datos.\n",
    "3. Identificar los jugadores que hicieron su primer depósito (FTD).\n",
    "4. Filtrar aquellos que cumplen la condición de CPA (total de depósitos mayor a 100 USD).\n",
    "5. Generar reportes de la cantidad de FTD por mes y de CPA por mes.\n",
    "\n",
    "---"
   ]
  },
  {
   "cell_type": "code",
   "execution_count": 2,
   "id": "5adb4837",
   "metadata": {},
   "outputs": [
    {
     "name": "stdout",
     "output_type": "stream",
     "text": [
      "Collecting pandas\n",
      "  Downloading pandas-2.2.3-cp311-cp311-manylinux_2_17_x86_64.manylinux2014_x86_64.whl.metadata (89 kB)\n",
      "Collecting numpy>=1.23.2 (from pandas)\n",
      "  Downloading numpy-2.2.2-cp311-cp311-manylinux_2_17_x86_64.manylinux2014_x86_64.whl.metadata (62 kB)\n",
      "Requirement already satisfied: python-dateutil>=2.8.2 in ./venv/lib/python3.11/site-packages (from pandas) (2.9.0.post0)\n",
      "Collecting pytz>=2020.1 (from pandas)\n",
      "  Downloading pytz-2024.2-py2.py3-none-any.whl.metadata (22 kB)\n",
      "Collecting tzdata>=2022.7 (from pandas)\n",
      "  Downloading tzdata-2024.2-py2.py3-none-any.whl.metadata (1.4 kB)\n",
      "Requirement already satisfied: six>=1.5 in ./venv/lib/python3.11/site-packages (from python-dateutil>=2.8.2->pandas) (1.17.0)\n",
      "Downloading pandas-2.2.3-cp311-cp311-manylinux_2_17_x86_64.manylinux2014_x86_64.whl (13.1 MB)\n",
      "\u001b[2K   \u001b[38;2;114;156;31m━━━━━━━━━━━━━━━━━━━━━━━━━━━━━━━━━━━━━━━━\u001b[0m \u001b[32m13.1/13.1 MB\u001b[0m \u001b[31m4.2 MB/s\u001b[0m eta \u001b[36m0:00:00\u001b[0m[36m0:00:01\u001b[0m[36m0:00:01\u001b[0m:01\u001b[0m\n",
      "\u001b[?25hDownloading numpy-2.2.2-cp311-cp311-manylinux_2_17_x86_64.manylinux2014_x86_64.whl (16.4 MB)\n",
      "\u001b[2K   \u001b[38;2;114;156;31m━━━━━━━━━━━━━━━━━━━━━━━━━━━━━━━━━━━━━━━━\u001b[0m \u001b[32m16.4/16.4 MB\u001b[0m \u001b[31m4.2 MB/s\u001b[0m eta \u001b[36m0:00:00\u001b[0mm eta \u001b[36m0:00:01\u001b[0m[36m0:00:01\u001b[0m\n",
      "\u001b[?25hDownloading pytz-2024.2-py2.py3-none-any.whl (508 kB)\n",
      "Downloading tzdata-2024.2-py2.py3-none-any.whl (346 kB)\n",
      "Installing collected packages: pytz, tzdata, numpy, pandas\n",
      "Successfully installed numpy-2.2.2 pandas-2.2.3 pytz-2024.2 tzdata-2024.2\n"
     ]
    }
   ],
   "source": [
    "!pip install pandas"
   ]
  },
  {
   "cell_type": "code",
   "execution_count": 3,
   "id": "950aa42c",
   "metadata": {},
   "outputs": [],
   "source": [
    "import sqlite3\n",
    "import pandas as pd"
   ]
  },
  {
   "cell_type": "markdown",
   "id": "615e9e49",
   "metadata": {},
   "source": [
    "## 1. Cargar los Datos desde los Archivos CSV\n",
    "En esta sección, cargamos los datos desde los archivos CSV en pandas."
   ]
  },
  {
   "cell_type": "code",
   "execution_count": 4,
   "id": "863183f2",
   "metadata": {},
   "outputs": [
    {
     "data": {
      "text/plain": [
       "(                              player_id              name registration_date  \\\n",
       " 0  23b8c1e9-3924-46de-beb1-3b9046685257    Derek Anderson        2023-07-27   \n",
       " 1  e465e150-bd9c-46b3-ad3c-2d6d1a3d1fa7  Michael Martinez        2023-02-28   \n",
       " 2  0822e8f3-6c03-4199-972a-846916419f82     Cynthia Moore        2022-01-24   \n",
       " 3  815ef6d1-3b8f-4a18-b7f8-a88b17fc695a      Jason Walker        2023-04-13   \n",
       " 4  b74d0fb1-32e7-4629-8fad-c1a606cb0fb3      Julia Wilson        2023-05-20   \n",
       " \n",
       "                 country  \n",
       " 0                France  \n",
       " 1                  Niue  \n",
       " 2                Mexico  \n",
       " 3            Tajikistan  \n",
       " 4  Syrian Arab Republic  ,\n",
       "                               player_id    trafficker  cost_of_acquisition  \\\n",
       " 0  23b8c1e9-3924-46de-beb1-3b9046685257  Trafficker_5               111.22   \n",
       " 1  e465e150-bd9c-46b3-ad3c-2d6d1a3d1fa7  Trafficker_3               234.12   \n",
       " 2  0822e8f3-6c03-4199-972a-846916419f82  Trafficker_9                71.73   \n",
       " 3  815ef6d1-3b8f-4a18-b7f8-a88b17fc695a  Trafficker_7                57.95   \n",
       " 4  b74d0fb1-32e7-4629-8fad-c1a606cb0fb3  Trafficker_2               104.66   \n",
       " \n",
       "   registration_date  \n",
       " 0        2023-07-27  \n",
       " 1        2023-02-28  \n",
       " 2        2022-01-24  \n",
       " 3        2023-04-13  \n",
       " 4        2023-05-20  ,\n",
       "                              deposit_id                             player_id  \\\n",
       " 0  f64e3dfc-bfbe-4c7a-afc5-97382fb21e66  7631de9d-dde9-4863-a2bd-33886db99102   \n",
       " 1  4c636e95-025f-4543-8997-623ae0723d96  f10c718b-1eb0-438a-a75d-d5af3c365296   \n",
       " 2  fba57cc8-edaf-4766-9b78-0ede9a4ffc0c  a76afde6-ce9e-4a11-bcbb-4e59fbddcf7c   \n",
       " 3  a42d0cd7-fd35-4f6a-b450-388748d90846  4dd8eb85-b04d-4376-b7fc-97031fd5a423   \n",
       " 4  f0458043-e3a6-4a70-be71-0b558639bd41  b07aa066-7354-45ea-a894-9b8d00af5b3a   \n",
       " \n",
       "    deposit_amount deposit_date  \n",
       " 0          351.49   2023-01-01  \n",
       " 1          321.08   2023-12-20  \n",
       " 2           68.91   2023-06-25  \n",
       " 3          390.79   2023-10-11  \n",
       " 4          428.14   2023-05-29  ,\n",
       "      month  expected_ftd  expected_cpa\n",
       " 0  2022-01            30            21\n",
       " 1  2022-02            23            13\n",
       " 2  2022-03            25            21\n",
       " 3  2022-04            48            38\n",
       " 4  2022-05            47            40)"
      ]
     },
     "execution_count": 4,
     "metadata": {},
     "output_type": "execute_result"
    }
   ],
   "source": [
    "players_df = pd.read_csv('./data/players.csv')\n",
    "traffic_sources_df = pd.read_csv('./data/traffic_sources.csv')\n",
    "deposits_df = pd.read_csv('./data/deposits.csv')\n",
    "internal_records_df = pd.read_csv('./data/internal_records.csv')\n",
    "\n",
    "# Mostrar las primeras filas de cada dataset\n",
    "players_df.head(), traffic_sources_df.head(), deposits_df.head(), internal_records_df.head()"
   ]
  },
  {
   "cell_type": "markdown",
   "id": "6be81c5d",
   "metadata": {},
   "source": [
    "## 2. Crear Base de Datos y Tablas SQL\n",
    "Creamos una base de datos en SQLite y definimos las tablas necesarias."
   ]
  },
  {
   "cell_type": "code",
   "execution_count": 5,
   "id": "bdf7f0b3",
   "metadata": {},
   "outputs": [
    {
     "name": "stdout",
     "output_type": "stream",
     "text": [
      "Base de datos y tablas creadas correctamente.\n"
     ]
    }
   ],
   "source": [
    "db_conn = sqlite3.connect(\"gaming_data.db\")\n",
    "cursor = db_conn.cursor()\n",
    "\n",
    "cursor.executescript('''\n",
    "    CREATE TABLE IF NOT EXISTS players (\n",
    "        player_id INTEGER PRIMARY KEY,\n",
    "        registration_date DATE\n",
    "    );\n",
    "    CREATE TABLE IF NOT EXISTS traffic_sources (\n",
    "        player_id INTEGER,\n",
    "        source TEXT,\n",
    "        FOREIGN KEY (player_id) REFERENCES players(player_id)\n",
    "    );\n",
    "    CREATE TABLE IF NOT EXISTS deposits (\n",
    "        deposit_id INTEGER PRIMARY KEY,\n",
    "        player_id INTEGER,\n",
    "        deposit_date DATE,\n",
    "        amount REAL,\n",
    "        FOREIGN KEY (player_id) REFERENCES players(player_id)\n",
    "    );\n",
    "    CREATE TABLE IF NOT EXISTS internal_records (\n",
    "        player_id INTEGER PRIMARY KEY,\n",
    "        status TEXT\n",
    "    );\n",
    "''')\n",
    "db_conn.commit()\n",
    "print(\"Base de datos y tablas creadas correctamente.\")"
   ]
  },
  {
   "cell_type": "markdown",
   "id": "6b4e44e2",
   "metadata": {},
   "source": [
    "## 3. Cargar Datos en la Base de Datos\n",
    "Insertamos los datos de los DataFrames en las tablas SQLite."
   ]
  },
  {
   "cell_type": "code",
   "execution_count": null,
   "id": "378e76f8",
   "metadata": {},
   "outputs": [],
   "source": [
    "players_df.to_sql(\"players\", db_conn, if_exists=\"replace\", index=False)\n",
    "traffic_sources_df.to_sql(\"traffic_sources\", db_conn, if_exists=\"replace\", index=False)\n",
    "deposits_df.to_sql(\"deposits\", db_conn, if_exists=\"replace\", index=False)\n",
    "internal_records_df.to_sql(\"internal_records\", db_conn, if_exists=\"replace\", index=False)\n",
    "print(\"Datos cargados exitosamente en SQLite.\")"
   ]
  },
  {
   "cell_type": "markdown",
   "id": "5568c558",
   "metadata": {},
   "source": [
    "## 4. Identificar Primer Depósito (FTD)\n",
    "Identificamos el primer depósito de cada jugador utilizando `MIN(deposit_date)`."
   ]
  },
  {
   "cell_type": "code",
   "execution_count": null,
   "id": "75132655",
   "metadata": {},
   "outputs": [],
   "source": [
    "cursor.execute('''\n",
    "    CREATE TABLE IF NOT EXISTS first_time_deposits AS\n",
    "    SELECT player_id, MIN(deposit_date) AS first_deposit_date\n",
    "    FROM deposits\n",
    "    GROUP BY player_id;\n",
    "''')\n",
    "db_conn.commit()\n",
    "print(\"Tabla de FTD creada correctamente.\")"
   ]
  },
  {
   "cell_type": "markdown",
   "id": "1c9e7afe",
   "metadata": {},
   "source": [
    "## 5. Filtrar Jugadores CPA (Depósitos > 100 USD)\n",
    "Seleccionamos los jugadores que han depositado más de 100 USD en total."
   ]
  },
  {
   "cell_type": "code",
   "execution_count": null,
   "id": "94d5441d",
   "metadata": {},
   "outputs": [],
   "source": [
    "cursor.execute('''\n",
    "    CREATE TABLE IF NOT EXISTS cpa_players AS\n",
    "    SELECT player_id, SUM(amount) AS total_deposits\n",
    "    FROM deposits\n",
    "    GROUP BY player_id\n",
    "    HAVING total_deposits > 100;\n",
    "''')\n",
    "db_conn.commit()\n",
    "print(\"Tabla de CPA creada correctamente.\")"
   ]
  },
  {
   "cell_type": "markdown",
   "id": "1799743a",
   "metadata": {},
   "source": [
    "## 6. Reporte de FTD por Mes\n",
    "Generamos un reporte de la cantidad de jugadores que hicieron su primer depósito cada mes."
   ]
  },
  {
   "cell_type": "code",
   "execution_count": null,
   "id": "ffd6cfb4",
   "metadata": {},
   "outputs": [],
   "source": [
    "ftd_report = pd.read_sql('''\n",
    "    SELECT strftime('%Y-%m', first_deposit_date) AS month, COUNT(player_id) AS ftd_count\n",
    "    FROM first_time_deposits\n",
    "    GROUP BY month\n",
    "    ORDER BY month;\n",
    "''', db_conn)\n",
    "print(ftd_report)"
   ]
  },
  {
   "cell_type": "markdown",
   "id": "f605ced7",
   "metadata": {},
   "source": [
    "## 7. Reporte de CPA por Mes\n",
    "Generamos un reporte de la cantidad de jugadores CPA (depósitos > 100 USD) cada mes."
   ]
  },
  {
   "cell_type": "code",
   "execution_count": null,
   "id": "3de88c9c",
   "metadata": {},
   "outputs": [],
   "source": [
    "cpa_report = pd.read_sql('''\n",
    "    SELECT strftime('%Y-%m', deposit_date) AS month, COUNT(DISTINCT deposits.player_id) AS cpa_count\n",
    "    FROM deposits\n",
    "    JOIN cpa_players ON deposits.player_id = cpa_players.player_id\n",
    "    GROUP BY month\n",
    "    ORDER BY month;\n",
    "''', db_conn)\n",
    "print(cpa_report)"
   ]
  }
 ],
 "metadata": {
  "kernelspec": {
   "display_name": "Python (venv)",
   "language": "python",
   "name": "venv"
  },
  "language_info": {
   "codemirror_mode": {
    "name": "ipython",
    "version": 3
   },
   "file_extension": ".py",
   "mimetype": "text/x-python",
   "name": "python",
   "nbconvert_exporter": "python",
   "pygments_lexer": "ipython3",
   "version": "3.11.2"
  }
 },
 "nbformat": 4,
 "nbformat_minor": 5
}
