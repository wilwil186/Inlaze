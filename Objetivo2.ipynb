{
 "cells": [
  {
   "cell_type": "markdown",
   "id": "f740b5ce",
   "metadata": {},
   "source": [
    "\n",
    "# Análisis de Calidad de Datos\n",
    "\n",
    "Este notebook realiza un análisis de calidad de datos, comparando los resultados de **FTD** y **CPA** con los registros internos. \n",
    "Además, se analiza el histórico de depósitos y se identifican patrones clave en los datos.\n",
    "\n",
    "## Pasos:\n",
    "1. **Carga de datos**: Importación de archivos CSV.\n",
    "2. **Comparación de FTD y CPA** con `internal_records.csv`.\n",
    "3. **Detección de discrepancias** en los valores registrados.\n",
    "4. **Visualización de discrepancias**.\n",
    "5. **Análisis de depósitos**:\n",
    "   - Histórico de dinero depositado.\n",
    "   - Jugador que más ha depositado.\n",
    "   - Otras visualizaciones clave.\n"
   ]
  },
  {
   "cell_type": "code",
   "execution_count": null,
   "id": "dab6e79b",
   "metadata": {},
   "outputs": [],
   "source": [
    "\n",
    "import pandas as pd\n",
    "import matplotlib.pyplot as plt\n",
    "\n",
    "# Cargar los datos desde los archivos CSV\n",
    "internal_records = pd.read_csv(\"internal_records.csv\")\n",
    "players = pd.read_csv(\"players.csv\")\n",
    "traffic_sources = pd.read_csv(\"traffic_sources.csv\")\n",
    "deposits = pd.read_csv(\"deposits.csv\")\n",
    "\n",
    "# Convertir fechas a formato datetime\n",
    "internal_records[\"month\"] = pd.to_datetime(internal_records[\"month\"])\n",
    "deposits[\"deposit_date\"] = pd.to_datetime(deposits[\"deposit_date\"])\n",
    "players[\"registration_date\"] = pd.to_datetime(players[\"registration_date\"])\n",
    "traffic_sources[\"registration_date\"] = pd.to_datetime(traffic_sources[\"registration_date\"])\n",
    "\n",
    "print(\"Datos cargados correctamente\")\n"
   ]
  },
  {
   "cell_type": "markdown",
   "id": "dcde6150",
   "metadata": {},
   "source": [
    "\n",
    "## Análisis de FTD y CPA\n",
    "\n",
    "Aquí se comparan los valores esperados de **First Time Depositors (FTD)** y **Costo por Adquisición (CPA)** \n",
    "con los datos reales obtenidos a partir del dataset de jugadores y tráfico.\n"
   ]
  },
  {
   "cell_type": "code",
   "execution_count": null,
   "id": "78c485d0",
   "metadata": {},
   "outputs": [],
   "source": [
    "\n",
    "# Contar FTD por mes\n",
    "players[\"month\"] = players[\"registration_date\"].dt.to_period(\"M\")\n",
    "ftd_counts = players.groupby(\"month\").size().reset_index(name=\"actual_ftd\")\n",
    "\n",
    "# Calcular CPA por mes\n",
    "traffic_sources[\"month\"] = traffic_sources[\"registration_date\"].dt.to_period(\"M\")\n",
    "cpa_counts = traffic_sources.groupby(\"month\").size().reset_index(name=\"actual_cpa\")\n",
    "\n",
    "# Unir los datos calculados con los registros internos\n",
    "comparison = internal_records.copy()\n",
    "comparison[\"month\"] = comparison[\"month\"].dt.to_period(\"M\")\n",
    "comparison = comparison.merge(ftd_counts, on=\"month\", how=\"left\").merge(cpa_counts, on=\"month\", how=\"left\")\n",
    "\n",
    "# Rellenar valores NaN con 0\n",
    "comparison.fillna(0, inplace=True)\n",
    "\n",
    "# Calcular discrepancias\n",
    "comparison[\"ftd_discrepancy\"] = comparison[\"actual_ftd\"] - comparison[\"expected_ftd\"]\n",
    "comparison[\"cpa_discrepancy\"] = comparison[\"actual_cpa\"] - comparison[\"expected_cpa\"]\n",
    "\n",
    "# Filtrar meses con discrepancias\n",
    "discrepant_months = comparison[(comparison[\"ftd_discrepancy\"] != 0) | (comparison[\"cpa_discrepancy\"] != 0)]\n",
    "\n",
    "# Mostrar los meses con discrepancias\n",
    "discrepant_months\n"
   ]
  },
  {
   "cell_type": "markdown",
   "id": "041da2f8",
   "metadata": {},
   "source": [
    "\n",
    "## Visualización de Discrepancias\n",
    "\n",
    "Los siguientes gráficos muestran las discrepancias detectadas en **FTD** y **CPA**.\n"
   ]
  },
  {
   "cell_type": "code",
   "execution_count": null,
   "id": "ba72b090",
   "metadata": {},
   "outputs": [],
   "source": [
    "\n",
    "# Gráfico de discrepancias en FTD y CPA\n",
    "plt.figure(figsize=(12, 5))\n",
    "\n",
    "plt.subplot(1, 2, 1)\n",
    "plt.bar(discrepant_months[\"month\"].astype(str), discrepant_months[\"ftd_discrepancy\"], color='red', alpha=0.7)\n",
    "plt.axhline(0, color='black', linewidth=1, linestyle='dashed')\n",
    "plt.xticks(rotation=45)\n",
    "plt.xlabel(\"Mes\")\n",
    "plt.ylabel(\"Diferencia en FTD\")\n",
    "plt.title(\"Discrepancias en First Time Depositors (FTD)\")\n",
    "\n",
    "plt.subplot(1, 2, 2)\n",
    "plt.bar(discrepant_months[\"month\"].astype(str), discrepant_months[\"cpa_discrepancy\"], color='blue', alpha=0.7)\n",
    "plt.axhline(0, color='black', linewidth=1, linestyle='dashed')\n",
    "plt.xticks(rotation=45)\n",
    "plt.xlabel(\"Mes\")\n",
    "plt.ylabel(\"Diferencia en CPA\")\n",
    "plt.title(\"Discrepancias en CPA\")\n",
    "\n",
    "plt.tight_layout()\n",
    "plt.show()\n"
   ]
  },
  {
   "cell_type": "markdown",
   "id": "2bc334a0",
   "metadata": {},
   "source": [
    "\n",
    "## Análisis de Depósitos\n",
    "\n",
    "Ahora analizamos el total de dinero depositado por mes y el jugador que más dinero ha depositado.\n"
   ]
  },
  {
   "cell_type": "code",
   "execution_count": null,
   "id": "ae90e53c",
   "metadata": {},
   "outputs": [],
   "source": [
    "\n",
    "# Convertir montos de depósito a tipo numérico\n",
    "deposits[\"deposit_amount\"] = pd.to_numeric(deposits[\"deposit_amount\"], errors='coerce')\n",
    "\n",
    "# Calcular total de depósitos por mes\n",
    "deposits[\"month\"] = deposits[\"deposit_date\"].dt.to_period(\"M\")\n",
    "monthly_deposits = deposits.groupby(\"month\")[\"deposit_amount\"].sum().reset_index()\n",
    "\n",
    "# Identificar al jugador que más ha depositado\n",
    "top_player = deposits.groupby(\"player_id\")[\"deposit_amount\"].sum().idxmax()\n",
    "top_player_amount = deposits.groupby(\"player_id\")[\"deposit_amount\"].sum().max()\n",
    "top_player_name = players.loc[players[\"player_id\"] == top_player, \"name\"].values[0]\n",
    "\n",
    "print(f\"Jugador con más depósitos: {top_player_name}, Total: ${top_player_amount}\")\n",
    "\n",
    "# Mostrar tabla de depósitos por mes\n",
    "monthly_deposits\n"
   ]
  },
  {
   "cell_type": "markdown",
   "id": "6ec00814",
   "metadata": {},
   "source": [
    "\n",
    "## Gráfico del Histórico de Depósitos\n",
    "\n",
    "El siguiente gráfico muestra la evolución del dinero depositado por mes.\n"
   ]
  },
  {
   "cell_type": "code",
   "execution_count": null,
   "id": "2463c21c",
   "metadata": {},
   "outputs": [],
   "source": [
    "\n",
    "# Gráfico del histórico de dinero depositado\n",
    "plt.figure(figsize=(10, 5))\n",
    "plt.plot(monthly_deposits[\"month\"].astype(str), monthly_deposits[\"deposit_amount\"], marker='o', linestyle='-')\n",
    "plt.xticks(rotation=45)\n",
    "plt.xlabel(\"Mes\")\n",
    "plt.ylabel(\"Total depositado ($)\")\n",
    "plt.title(\"Histórico de dinero depositado por mes\")\n",
    "plt.grid(True)\n",
    "plt.show()\n"
   ]
  }
 ],
 "metadata": {},
 "nbformat": 4,
 "nbformat_minor": 5
}